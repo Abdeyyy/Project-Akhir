{
  "cells": [
    {
      "cell_type": "markdown",
      "metadata": {
        "id": "view-in-github",
        "colab_type": "text"
      },
      "source": [
        "<a href=\"https://colab.research.google.com/github/Abdeyyy/Project-Akhir/blob/main/Untitled10.ipynb\" target=\"_parent\"><img src=\"https://colab.research.google.com/assets/colab-badge.svg\" alt=\"Open In Colab\"/></a>"
      ]
    },
    {
      "cell_type": "code",
      "source": [
        "class Barang:\n",
        "    def __init__(self, kode_barang, nama_barang, harga, jumlah_stok):\n",
        "        self.kode_barang = kode_barang\n",
        "        self.nama_barang = nama_barang\n",
        "        self.harga = harga\n",
        "        self.jumlah_stok = jumlah_stok\n",
        "\n",
        "    def update_stok(self, jumlah):\n",
        "        self.jumlah_stok += jumlah\n",
        "\n",
        "    def info_barang(self):\n",
        "        return f\"Kode Barang: {self.kode_barang}\\nNama Barang: {self.nama_barang}\\nHarga: Rp{self.harga}\\nStok: {self.jumlah_stok}\"\n",
        "\n",
        "# Data awal dalam bentuk tuple\n",
        "data = {\n",
        "    ('AAA', 'Beras', 16000, 100),\n",
        "    ('AAI', 'Minyak', 16000, 100),\n",
        "    ('AAU', 'Telur', 28000, 100),\n",
        "    ('AAE', 'Gula', 17000, 100),\n",
        "    ('AAO', 'Gas', 22000, 100)\n",
        "}\n",
        "\n",
        "# Membuat list dan dictionary\n",
        "daftar_barang = []\n",
        "dict_barang = {}\n",
        "\n",
        "# Membuat objek Barang dari data dan menambahkan ke list dan dictionary\n",
        "for kode, nama, harga, stok in data:\n",
        "    barang = Barang(kode, nama, harga, stok)\n",
        "    daftar_barang.append(barang)\n",
        "    dict_barang[kode] = barang\n",
        "\n",
        "# Mengubah stok barang dengan kode 'AAI'\n",
        "dict_barang['AAI'].update_stok(-20)\n",
        "print(dict_barang['AAI'].info_barang())"
      ],
      "metadata": {
        "colab": {
          "base_uri": "https://localhost:8080/"
        },
        "id": "fGqoEmsQ0PUz",
        "outputId": "156ad8b9-25d9-45c7-e41e-7c3f0b8703fc"
      },
      "execution_count": 7,
      "outputs": [
        {
          "output_type": "stream",
          "name": "stdout",
          "text": [
            "Kode Barang: AAI\n",
            "Nama Barang: Minyak\n",
            "Harga: Rp16000\n",
            "Stok: 80\n"
          ]
        }
      ]
    },
    {
      "cell_type": "code",
      "source": [],
      "metadata": {
        "id": "MElP3Moh2Uqm"
      },
      "execution_count": null,
      "outputs": []
    },
    {
      "cell_type": "code",
      "source": [],
      "metadata": {
        "id": "wuWo9vKU2hn1"
      },
      "execution_count": null,
      "outputs": []
    }
  ],
  "metadata": {
    "colab": {
      "provenance": [],
      "authorship_tag": "ABX9TyPl8YLWMDCcKVXgPFxIurJ8",
      "include_colab_link": true
    },
    "kernelspec": {
      "display_name": "Python 3",
      "name": "python3"
    },
    "language_info": {
      "name": "python"
    }
  },
  "nbformat": 4,
  "nbformat_minor": 0
}